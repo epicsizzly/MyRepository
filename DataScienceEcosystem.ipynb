{
 "cells": [
  {
   "cell_type": "markdown",
   "id": "a4aee3b8-28d8-40a2-a5f4-02c1ea1d345a",
   "metadata": {},
   "source": [
    "<H1> Data Science Tools and Ecosystem <H1/>\n",
    "    "
   ]
  },
  {
   "cell_type": "markdown",
   "id": "129dc513-863d-4719-92f1-e888bb081c6d",
   "metadata": {},
   "source": [
    "In this notebook, Data Science Tools and Ecosystem are summarized."
   ]
  },
  {
   "cell_type": "markdown",
   "id": "8252a2d6-44d5-4263-bfb4-a750a6b6dae2",
   "metadata": {},
   "source": [
    "Some of the popular languages that Data Scientists use are:"
   ]
  },
  {
   "cell_type": "markdown",
   "id": "87c33709-b88a-489f-8ede-05f3409c2db1",
   "metadata": {},
   "source": [
    "1. Python\n",
    "2. Java\n",
    "3. C++"
   ]
  },
  {
   "cell_type": "markdown",
   "id": "36aacf30-2583-41fd-856a-7e008824626b",
   "metadata": {},
   "source": [
    "Some of the commonly used libraries used by Data Scientists include:"
   ]
  },
  {
   "cell_type": "markdown",
   "id": "844ea744-0f48-4dbb-ba74-cdd9df8a8b9d",
   "metadata": {},
   "source": [
    "1. Pandas\n",
    "2. Numpy\n",
    "3. Matplotlib\n"
   ]
  },
  {
   "cell_type": "markdown",
   "id": "1111f17f-c4a5-4cf4-b740-8987e6d0ebe7",
   "metadata": {},
   "source": [
    "| Data Science Tools |\n",
    "|-------------------|\n",
    "| Jupyter Notebook  |\n",
    "| RStudio           |\n",
    "| Visual Studio Code|"
   ]
  },
  {
   "cell_type": "markdown",
   "id": "ec29d47d-f86c-4f44-a1a1-c91b494c7d61",
   "metadata": {},
   "source": [
    "<H3> Below are a few examples of evaluating arithmetic expressions in Python. <H3/>"
   ]
  },
  {
   "cell_type": "code",
   "execution_count": 1,
   "id": "49d51371-3d13-492f-8eba-6464c1f7e60e",
   "metadata": {
    "tags": []
   },
   "outputs": [
    {
     "data": {
      "text/plain": [
       "17"
      ]
     },
     "execution_count": 1,
     "metadata": {},
     "output_type": "execute_result"
    }
   ],
   "source": [
    "(3*4)+5\n",
    "# This a simple arithmetic expression to mutiply then add integers"
   ]
  },
  {
   "cell_type": "code",
   "execution_count": 2,
   "id": "188e94c4-60ea-48d2-8cdc-765ea33c2ec4",
   "metadata": {
    "tags": []
   },
   "outputs": [
    {
     "data": {
      "text/plain": [
       "3.3333333333333335"
      ]
     },
     "execution_count": 2,
     "metadata": {},
     "output_type": "execute_result"
    }
   ],
   "source": [
    "200/60\n",
    "# This will convert 200 minutes to hours by diving by 60\n"
   ]
  },
  {
   "cell_type": "markdown",
   "id": "573451b9-7bd4-4fed-a895-66ce40e8f068",
   "metadata": {
    "tags": []
   },
   "source": [
    "**objectives:**\n",
    "- List popular languages for Data Science.\n",
    "- Explain the steps of a typical data science methodology.\n",
    "- Explore data using Python libraries like NumPy and Pandas.\n"
   ]
  },
  {
   "cell_type": "markdown",
   "id": "42c194e6-2e1d-4d26-ae13-4d50ba1f1236",
   "metadata": {},
   "source": [
    "## Author\n",
    "Syed Izhan Ali\n"
   ]
  },
  {
   "cell_type": "code",
   "execution_count": null,
   "id": "8edde43f-f5ca-4bd6-9c7c-c037b2c6ec56",
   "metadata": {},
   "outputs": [],
   "source": []
  }
 ],
 "metadata": {
  "kernelspec": {
   "display_name": "Python",
   "language": "python",
   "name": "conda-env-python-py"
  },
  "language_info": {
   "codemirror_mode": {
    "name": "ipython",
    "version": 3
   },
   "file_extension": ".py",
   "mimetype": "text/x-python",
   "name": "python",
   "nbconvert_exporter": "python",
   "pygments_lexer": "ipython3",
   "version": "3.7.12"
  }
 },
 "nbformat": 4,
 "nbformat_minor": 5
}
